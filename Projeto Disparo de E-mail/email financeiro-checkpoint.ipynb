{
 "cells": [
  {
   "cell_type": "markdown",
   "id": "dbf67e50",
   "metadata": {},
   "source": [
    "Instalando  LIB"
   ]
  },
  {
   "cell_type": "code",
   "execution_count": 1,
   "id": "7157ac0e",
   "metadata": {
    "scrolled": false
   },
   "outputs": [
    {
     "name": "stdout",
     "output_type": "stream",
     "text": [
      "Requirement already satisfied: pywin32 in c:\\users\\francisco ambros\\anaconda3\\lib\\site-packages (305.1)\n"
     ]
    }
   ],
   "source": [
    "#!pip install pywin32"
   ]
  },
  {
   "cell_type": "code",
   "execution_count": 1,
   "id": "568b44ff",
   "metadata": {},
   "outputs": [],
   "source": [
    "#import win32com.client as client\n",
    "import pandas as pd\n",
    "import datetime as dt"
   ]
  },
  {
   "cell_type": "markdown",
   "id": "86b91718",
   "metadata": {},
   "source": [
    "# Lendo arquivo excel"
   ]
  },
  {
   "cell_type": "code",
   "execution_count": 3,
   "id": "42933e67",
   "metadata": {},
   "outputs": [
    {
     "data": {
      "text/html": [
       "<div>\n",
       "<style scoped>\n",
       "    .dataframe tbody tr th:only-of-type {\n",
       "        vertical-align: middle;\n",
       "    }\n",
       "\n",
       "    .dataframe tbody tr th {\n",
       "        vertical-align: top;\n",
       "    }\n",
       "\n",
       "    .dataframe thead th {\n",
       "        text-align: right;\n",
       "    }\n",
       "</style>\n",
       "<table border=\"1\" class=\"dataframe\">\n",
       "  <thead>\n",
       "    <tr style=\"text-align: right;\">\n",
       "      <th></th>\n",
       "      <th>CPF</th>\n",
       "      <th>Valor em aberto</th>\n",
       "      <th>Data Prevista para pagamento</th>\n",
       "      <th>Status</th>\n",
       "      <th>E-mail</th>\n",
       "      <th>NF</th>\n",
       "    </tr>\n",
       "  </thead>\n",
       "  <tbody>\n",
       "    <tr>\n",
       "      <th>0</th>\n",
       "      <td>44204824413</td>\n",
       "      <td>1195</td>\n",
       "      <td>2023-07-26</td>\n",
       "      <td>Vence Hj</td>\n",
       "      <td>testeemail1@gmail.com</td>\n",
       "      <td>197</td>\n",
       "    </tr>\n",
       "    <tr>\n",
       "      <th>1</th>\n",
       "      <td>27337412934</td>\n",
       "      <td>1345</td>\n",
       "      <td>2023-07-26</td>\n",
       "      <td>Vence Hj</td>\n",
       "      <td>testeemail2@gmail.com</td>\n",
       "      <td>133</td>\n",
       "    </tr>\n",
       "    <tr>\n",
       "      <th>2</th>\n",
       "      <td>53713111219</td>\n",
       "      <td>1372</td>\n",
       "      <td>2023-07-21</td>\n",
       "      <td>Em aberto</td>\n",
       "      <td>testeemail3@gmail.com</td>\n",
       "      <td>155</td>\n",
       "    </tr>\n",
       "    <tr>\n",
       "      <th>3</th>\n",
       "      <td>17537122867</td>\n",
       "      <td>1718</td>\n",
       "      <td>2023-07-21</td>\n",
       "      <td>Em aberto</td>\n",
       "      <td>testeemail4@gmail.com</td>\n",
       "      <td>149</td>\n",
       "    </tr>\n",
       "    <tr>\n",
       "      <th>4</th>\n",
       "      <td>54769185414</td>\n",
       "      <td>1533</td>\n",
       "      <td>2023-07-23</td>\n",
       "      <td>Em aberto</td>\n",
       "      <td>testeemail5@gmail.com</td>\n",
       "      <td>118</td>\n",
       "    </tr>\n",
       "  </tbody>\n",
       "</table>\n",
       "</div>"
      ],
      "text/plain": [
       "           CPF  Valor em aberto Data Prevista para pagamento     Status  \\\n",
       "0  44204824413             1195                   2023-07-26   Vence Hj   \n",
       "1  27337412934             1345                   2023-07-26   Vence Hj   \n",
       "2  53713111219             1372                   2023-07-21  Em aberto   \n",
       "3  17537122867             1718                   2023-07-21  Em aberto   \n",
       "4  54769185414             1533                   2023-07-23  Em aberto   \n",
       "\n",
       "                  E-mail   NF  \n",
       "0  testeemail1@gmail.com  197  \n",
       "1  testeemail2@gmail.com  133  \n",
       "2  testeemail3@gmail.com  155  \n",
       "3  testeemail4@gmail.com  149  \n",
       "4  testeemail5@gmail.com  118  "
      ]
     },
     "execution_count": 3,
     "metadata": {},
     "output_type": "execute_result"
    }
   ],
   "source": [
    "tabela = pd.read_excel('teste disparo e-mail.xlsx')\n",
    "tabela.head()\n",
    "#tabela.info()"
   ]
  },
  {
   "cell_type": "markdown",
   "id": "fe9f8c92",
   "metadata": {},
   "source": [
    "Verificando data atual"
   ]
  },
  {
   "cell_type": "code",
   "execution_count": 4,
   "id": "788f76ef",
   "metadata": {},
   "outputs": [
    {
     "name": "stdout",
     "output_type": "stream",
     "text": [
      "2023-07-26 18:31:43.761761\n",
      "2023-08-05 18:31:43.761761\n",
      "2023-07-31 18:31:43.761761\n"
     ]
    }
   ],
   "source": [
    "hoje = dt.datetime.now()\n",
    "dias_antes = hoje - dt.timedelta(days=5)\n",
    "dias_depois = hoje + dt.timedelta(days=5)\n",
    "print(dias_antes)\n",
    "print(dias_depois)\n",
    "print(hoje)"
   ]
  },
  {
   "cell_type": "markdown",
   "id": "93e27902",
   "metadata": {},
   "source": [
    "# Dados dos clientes que está em aberto"
   ]
  },
  {
   "cell_type": "code",
   "execution_count": 5,
   "id": "a85102ac",
   "metadata": {},
   "outputs": [
    {
     "data": {
      "text/html": [
       "<div>\n",
       "<style scoped>\n",
       "    .dataframe tbody tr th:only-of-type {\n",
       "        vertical-align: middle;\n",
       "    }\n",
       "\n",
       "    .dataframe tbody tr th {\n",
       "        vertical-align: top;\n",
       "    }\n",
       "\n",
       "    .dataframe thead th {\n",
       "        text-align: right;\n",
       "    }\n",
       "</style>\n",
       "<table border=\"1\" class=\"dataframe\">\n",
       "  <thead>\n",
       "    <tr style=\"text-align: right;\">\n",
       "      <th></th>\n",
       "      <th>CPF</th>\n",
       "      <th>Valor em aberto</th>\n",
       "      <th>Data Prevista para pagamento</th>\n",
       "      <th>Status</th>\n",
       "      <th>E-mail</th>\n",
       "      <th>NF</th>\n",
       "    </tr>\n",
       "  </thead>\n",
       "  <tbody>\n",
       "    <tr>\n",
       "      <th>2</th>\n",
       "      <td>53713111219</td>\n",
       "      <td>1372</td>\n",
       "      <td>2023-07-21</td>\n",
       "      <td>Em aberto</td>\n",
       "      <td>testeemail3@gmail.com</td>\n",
       "      <td>155</td>\n",
       "    </tr>\n",
       "    <tr>\n",
       "      <th>3</th>\n",
       "      <td>17537122867</td>\n",
       "      <td>1718</td>\n",
       "      <td>2023-07-21</td>\n",
       "      <td>Em aberto</td>\n",
       "      <td>testeemail4@gmail.com</td>\n",
       "      <td>149</td>\n",
       "    </tr>\n",
       "    <tr>\n",
       "      <th>4</th>\n",
       "      <td>54769185414</td>\n",
       "      <td>1533</td>\n",
       "      <td>2023-07-23</td>\n",
       "      <td>Em aberto</td>\n",
       "      <td>testeemail5@gmail.com</td>\n",
       "      <td>118</td>\n",
       "    </tr>\n",
       "  </tbody>\n",
       "</table>\n",
       "</div>"
      ],
      "text/plain": [
       "           CPF  Valor em aberto Data Prevista para pagamento     Status  \\\n",
       "2  53713111219             1372                   2023-07-21  Em aberto   \n",
       "3  17537122867             1718                   2023-07-21  Em aberto   \n",
       "4  54769185414             1533                   2023-07-23  Em aberto   \n",
       "\n",
       "                  E-mail   NF  \n",
       "2  testeemail3@gmail.com  155  \n",
       "3  testeemail4@gmail.com  149  \n",
       "4  testeemail5@gmail.com  118  "
      ]
     },
     "metadata": {},
     "output_type": "display_data"
    }
   ],
   "source": [
    "tabela_devedores=tabela.loc[tabela['Status']== 'Em aberto']\n",
    "tabela_devedores = tabela_devedores.loc[tabela_devedores['Data Prevista para pagamento'] < (hoje - dt.timedelta(days=5))]\n",
    "display(tabela_devedores)"
   ]
  },
  {
   "cell_type": "markdown",
   "id": "1bd3aede",
   "metadata": {},
   "source": [
    "# Clientes vecendo da data atual"
   ]
  },
  {
   "cell_type": "code",
   "execution_count": 155,
   "id": "6c86236f",
   "metadata": {},
   "outputs": [
    {
     "data": {
      "text/html": [
       "<div>\n",
       "<style scoped>\n",
       "    .dataframe tbody tr th:only-of-type {\n",
       "        vertical-align: middle;\n",
       "    }\n",
       "\n",
       "    .dataframe tbody tr th {\n",
       "        vertical-align: top;\n",
       "    }\n",
       "\n",
       "    .dataframe thead th {\n",
       "        text-align: right;\n",
       "    }\n",
       "</style>\n",
       "<table border=\"1\" class=\"dataframe\">\n",
       "  <thead>\n",
       "    <tr style=\"text-align: right;\">\n",
       "      <th></th>\n",
       "      <th>CPF</th>\n",
       "      <th>Valor em aberto</th>\n",
       "      <th>Data Prevista para pagamento</th>\n",
       "      <th>Status</th>\n",
       "      <th>E-mail</th>\n",
       "      <th>NF</th>\n",
       "    </tr>\n",
       "  </thead>\n",
       "  <tbody>\n",
       "    <tr>\n",
       "      <th>0</th>\n",
       "      <td>44204824413</td>\n",
       "      <td>1195</td>\n",
       "      <td>2023-07-26</td>\n",
       "      <td>Vence Hj</td>\n",
       "      <td>carloscarreiro021@gmail.com</td>\n",
       "      <td>197</td>\n",
       "    </tr>\n",
       "    <tr>\n",
       "      <th>1</th>\n",
       "      <td>27337412934</td>\n",
       "      <td>1345</td>\n",
       "      <td>2023-07-26</td>\n",
       "      <td>Vence Hj</td>\n",
       "      <td>freitasmariaclara109@gmail.com</td>\n",
       "      <td>133</td>\n",
       "    </tr>\n",
       "  </tbody>\n",
       "</table>\n",
       "</div>"
      ],
      "text/plain": [
       "           CPF  Valor em aberto Data Prevista para pagamento    Status  \\\n",
       "0  44204824413             1195                   2023-07-26  Vence Hj   \n",
       "1  27337412934             1345                   2023-07-26  Vence Hj   \n",
       "\n",
       "                           E-mail   NF  \n",
       "0     carloscarreiro021@gmail.com  197  \n",
       "1  freitasmariaclara109@gmail.com  133  "
      ]
     },
     "metadata": {},
     "output_type": "display_data"
    }
   ],
   "source": [
    "tabela_venc_hj=tabela.loc[tabela['Status']== 'Vence Hj']\n",
    "display(tabela_venc_hj)\n",
    "tabela_nao_vencida = tabela_venc_hj.loc[tabela_venc_hj['Data Prevista para pagamento']== hoje]"
   ]
  },
  {
   "cell_type": "markdown",
   "id": "66e67383",
   "metadata": {},
   "source": [
    "# A vencer "
   ]
  },
  {
   "cell_type": "code",
   "execution_count": 156,
   "id": "6dd23512",
   "metadata": {
    "scrolled": true
   },
   "outputs": [
    {
     "data": {
      "text/html": [
       "<div>\n",
       "<style scoped>\n",
       "    .dataframe tbody tr th:only-of-type {\n",
       "        vertical-align: middle;\n",
       "    }\n",
       "\n",
       "    .dataframe tbody tr th {\n",
       "        vertical-align: top;\n",
       "    }\n",
       "\n",
       "    .dataframe thead th {\n",
       "        text-align: right;\n",
       "    }\n",
       "</style>\n",
       "<table border=\"1\" class=\"dataframe\">\n",
       "  <thead>\n",
       "    <tr style=\"text-align: right;\">\n",
       "      <th></th>\n",
       "      <th>CPF</th>\n",
       "      <th>Valor em aberto</th>\n",
       "      <th>Data Prevista para pagamento</th>\n",
       "      <th>Status</th>\n",
       "      <th>E-mail</th>\n",
       "      <th>NF</th>\n",
       "    </tr>\n",
       "  </thead>\n",
       "  <tbody>\n",
       "    <tr>\n",
       "      <th>6</th>\n",
       "      <td>27333842934</td>\n",
       "      <td>1670</td>\n",
       "      <td>2023-07-31</td>\n",
       "      <td>Nao vencida</td>\n",
       "      <td>carlos.carreiro@produtecnicane.com.br</td>\n",
       "      <td>177</td>\n",
       "    </tr>\n",
       "  </tbody>\n",
       "</table>\n",
       "</div>"
      ],
      "text/plain": [
       "           CPF  Valor em aberto Data Prevista para pagamento       Status  \\\n",
       "6  27333842934             1670                   2023-07-31  Nao vencida   \n",
       "\n",
       "                                  E-mail   NF  \n",
       "6  carlos.carreiro@produtecnicane.com.br  177  "
      ]
     },
     "metadata": {},
     "output_type": "display_data"
    }
   ],
   "source": [
    "tabela_nao_vencida=tabela.loc[tabela['Status']== 'Nao vencida']\n",
    "tabela_nao_vencida = tabela_nao_vencida.loc[tabela_nao_vencida['Data Prevista para pagamento'] < (hoje + dt.timedelta(days=5))]\n",
    "display(tabela_nao_vencida)"
   ]
  },
  {
   "cell_type": "markdown",
   "id": "ff5dc0d8",
   "metadata": {},
   "source": [
    "# Criando disparo de e-mail no outlook"
   ]
  },
  {
   "cell_type": "code",
   "execution_count": 87,
   "id": "fe85273b",
   "metadata": {},
   "outputs": [],
   "source": [
    "outlook = client.Dispatch('Outlook.Application')"
   ]
  },
  {
   "cell_type": "code",
   "execution_count": 88,
   "id": "1cf4b510",
   "metadata": {},
   "outputs": [],
   "source": [
    "#emissor = outlook.session.Accounts['financeiroprodutecnica@produtecnicane.com.br']"
   ]
  },
  {
   "cell_type": "code",
   "execution_count": 89,
   "id": "3cd4c3a7",
   "metadata": {},
   "outputs": [],
   "source": [
    "mensagem = outlook.CreateItem(0)\n",
    "#mensagem.Display()\n",
    "mensagem.To= 'carlos.carreiro@produtecnicane.com.br'\n",
    "mensagem.Subject = 'PAGAMENTO NÂO LOCALIZADO'\n",
    "mensagem.Body = '''\n",
    " teste teste teste\n",
    "'''\n",
    "\n",
    "mensagem._oleobj_.Invoke(*(64209,0,8,0,emissor))\n",
    "mensagem.Save()\n",
    "mensagem.Send()"
   ]
  },
  {
   "cell_type": "markdown",
   "id": "800076f6",
   "metadata": {},
   "source": [
    "# Colocando colunas a serem tratadas em listas"
   ]
  },
  {
   "cell_type": "code",
   "execution_count": 157,
   "id": "cf8d321d",
   "metadata": {},
   "outputs": [],
   "source": [
    "dados_devedores = tabela_devedores[['Valor em aberto', 'Data Prevista para pagamento', 'E-mail' , 'NF']].values.tolist()"
   ]
  },
  {
   "cell_type": "code",
   "execution_count": 158,
   "id": "f8fd7c8c",
   "metadata": {},
   "outputs": [],
   "source": [
    "dados_vence_hj =tabela_venc_hj[['Valor em aberto', 'Data Prevista para pagamento', 'E-mail' , 'NF']].values.tolist()"
   ]
  },
  {
   "cell_type": "code",
   "execution_count": 159,
   "id": "e199a023",
   "metadata": {},
   "outputs": [],
   "source": [
    "dados_a_vencer = tabela_nao_vencida[['Valor em aberto', 'Data Prevista para pagamento', 'E-mail' , 'NF']].values.tolist()"
   ]
  },
  {
   "cell_type": "markdown",
   "id": "bf3637a8",
   "metadata": {},
   "source": [
    "# Clientes com atraso"
   ]
  },
  {
   "cell_type": "code",
   "execution_count": 160,
   "id": "5a5ea46c",
   "metadata": {},
   "outputs": [],
   "source": [
    "for dado in dados_devedores:\n",
    "        destinatario = dado[2]\n",
    "        valor = dado[0] \n",
    "        prazo = dado[1]\n",
    "        prazo = prazo.strftime(\"%d/%m/%Y\")\n",
    "        nf = dado[3]\n",
    "\n",
    "        mensagem = outlook.CreateItem(0)\n",
    "        #mensagem.Display()\n",
    "        mensagem.To= destinatario\n",
    "        mensagem.Subject = 'Atraso de pagamento'\n",
    "        mensagem.Body = f'''\n",
    "       \n",
    "         Prezado Cliente, \n",
    "\n",
    "        Verificamos um atraso no pagamento referente a NF {nf} com vencimento em {prazo} e valor total de R${valor:.2f}.\n",
    "        Gostaríamos de verificar se há algum problema que necessite de auxílio de nossa equipe. \n",
    "\n",
    "        Em caso de dúvidas, é só entrar em contato com nosso time atráves do e-mail financeiroprodutecnica@produtecnicane.com.br\n",
    "\n",
    "\n",
    "        Att,\n",
    "        Financeiro Produtécnica \n",
    "        '''\n",
    "\n",
    "        #mensagem._oleobj_.Invoke(*(64209,0,8,0,emissor))\n",
    "        mensagem.Save()\n",
    "        mensagem.Send()\n",
    "\n",
    "        #teste teste teste"
   ]
  },
  {
   "cell_type": "markdown",
   "id": "c997fce5",
   "metadata": {},
   "source": [
    "# Clientes vencendo Hoje"
   ]
  },
  {
   "cell_type": "code",
   "execution_count": 161,
   "id": "86d1dbe6",
   "metadata": {},
   "outputs": [],
   "source": [
    "for dado in dados_vence_hj:\n",
    "        destinatario = dado[2]\n",
    "        valor = dado[0]\n",
    "        prazo = dado[1]\n",
    "        prazo = prazo.strftime(\"%d/%m/%Y\")\n",
    "        nf = dado[3]\n",
    "\n",
    "        mensagem = outlook.CreateItem(0)\n",
    "        #mensagem.Display()\n",
    "        mensagem.To= destinatario\n",
    "        mensagem.Subject = 'Sua Parcela Vence Hoje'\n",
    "        mensagem.Body = f'''\n",
    "       \n",
    "        Prezado Cliente, \n",
    "\n",
    "        Gostaríamos de informar que sua nota {nf} no valor {valor} está vencendo hoje {prazo}. \n",
    "        Para dúvidas, contate-nos pelo (99) 3541-8883 ou financeiroprodutecnica@produtecnicane.com.br.\n",
    "        Agradecemos sua atenção.\n",
    "\n",
    "        Caso já tenha pago, favor desconsidera.\n",
    "        \n",
    "        Att,\n",
    "        Financeiro Produtécnica \n",
    "        '''\n",
    "\n",
    "        #mensagem._oleobj_.Invoke(*(64209,0,8,0,emissor))\n",
    "        mensagem.Save()\n",
    "        mensagem.Send()"
   ]
  },
  {
   "cell_type": "markdown",
   "id": "e313d285",
   "metadata": {},
   "source": [
    "# Clientes a vencer"
   ]
  },
  {
   "cell_type": "code",
   "execution_count": 27,
   "id": "fbb52df9",
   "metadata": {},
   "outputs": [],
   "source": [
    "for dado in dados_a_vencer:\n",
    "        destinatario = dado[2]\n",
    "        valor = dado[0]\n",
    "        prazo = dado[1]\n",
    "        prazo = prazo.strftime(\"%d/%m/%Y\")\n",
    "        nf = dado[3]\n",
    "\n",
    "        mensagem = outlook.CreateItem(0)\n",
    "        #mensagem.Display()\n",
    "        mensagem.To= destinatario\n",
    "        mensagem.Subject = 'Pagamento Próximo'\n",
    "        mensagem.Body = f'''\n",
    "       \n",
    "        Prezado Cliente, \n",
    "\n",
    "        Gostaríamos de informar que sua nota {nf} no valor {valor} está vencendo hoje {prazo}. \n",
    "        Lembramos que sua conta vencerá em 5 dias.Por favor, efetue\n",
    "        o pagamento antes da data de vencimento. Para dúvidas, contate-nos pelo (99) 3541-8883\n",
    "        ou financeiroprodutecnica@produtecnicane.com.br. Agradecemos sua atenção.\n",
    "\n",
    "        Caso já tenha pago, favor descosiderar.\n",
    "        \n",
    "        Att,\n",
    "        Financeiro Produtécnica \n",
    "        '''\n",
    "\n",
    "        #mensagem._oleobj_.Invoke(*(64209,0,8,0,emissor))\n",
    "        mensagem.Save()\n",
    "        mensagem.Send()"
   ]
  },
  {
   "cell_type": "code",
   "execution_count": 31,
   "id": "c644b77e",
   "metadata": {},
   "outputs": [
    {
     "name": "stdout",
     "output_type": "stream",
     "text": [
      "13/01/2022\n"
     ]
    }
   ],
   "source": [
    "print(prazo)"
   ]
  },
  {
   "cell_type": "code",
   "execution_count": null,
   "id": "6faed78a",
   "metadata": {},
   "outputs": [],
   "source": []
  }
 ],
 "metadata": {
  "kernelspec": {
   "display_name": "Python 3 (ipykernel)",
   "language": "python",
   "name": "python3"
  },
  "language_info": {
   "codemirror_mode": {
    "name": "ipython",
    "version": 3
   },
   "file_extension": ".py",
   "mimetype": "text/x-python",
   "name": "python",
   "nbconvert_exporter": "python",
   "pygments_lexer": "ipython3",
   "version": "3.11.4"
  }
 },
 "nbformat": 4,
 "nbformat_minor": 5
}
